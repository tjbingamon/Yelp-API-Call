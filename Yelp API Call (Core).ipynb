{
 "cells": [
  {
   "cell_type": "markdown",
   "id": "34d92e45",
   "metadata": {},
   "source": [
    "# Import Libraries"
   ]
  },
  {
   "cell_type": "code",
   "execution_count": 29,
   "id": "13f5f42d",
   "metadata": {},
   "outputs": [],
   "source": [
    "# Standard Imports\n",
    "import numpy as np\n",
    "import pandas as pd\n",
    "import matplotlib.pyplot as plt\n",
    "import seaborn as sns\n",
    "# Additional Imports\n",
    "import os, json, math, time\n",
    "from yelpapi import YelpAPI\n",
    "from tqdm.notebook import tqdm_notebook"
   ]
  },
  {
   "cell_type": "code",
   "execution_count": 30,
   "id": "29ed3446",
   "metadata": {},
   "outputs": [
    {
     "name": "stdout",
     "output_type": "stream",
     "text": [
      "Requirement already satisfied: tqdm in /Users/tjbingamon/anaconda3/envs/dojo-env/lib/python3.9/site-packages (4.64.1)\r\n"
     ]
    }
   ],
   "source": [
    "# Install tmdbsimple (only need to run once)\n",
    "!pip install tqdm"
   ]
  },
  {
   "cell_type": "markdown",
   "id": "995b4475",
   "metadata": {},
   "source": [
    "# Load Credentials"
   ]
  },
  {
   "cell_type": "code",
   "execution_count": 31,
   "id": "7a7fcba7",
   "metadata": {},
   "outputs": [],
   "source": [
    "# Load API Credentials\n",
    "with open('/Users/tjbingamon/.secret/yelp_api.json') as f:   #use your path here!\n",
    "    login = json.load(f)\n",
    "# Instantiate YelpAPI Variable\n",
    "yelp_api = YelpAPI(login['api-key'], timeout_s=5.0)"
   ]
  },
  {
   "cell_type": "code",
   "execution_count": 32,
   "id": "04569574",
   "metadata": {},
   "outputs": [],
   "source": [
    "# set our API call parameters \n",
    "LOCATION = 'Portland, OR'\n",
    "TERM = 'Pizza'"
   ]
  },
  {
   "cell_type": "code",
   "execution_count": 33,
   "id": "a6f4bea1",
   "metadata": {},
   "outputs": [
    {
     "data": {
      "text/plain": [
       "'Data/results_in_progress_PDX_pizza.json'"
      ]
     },
     "execution_count": 33,
     "metadata": {},
     "output_type": "execute_result"
    }
   ],
   "source": [
    "# Specifying JSON_FILE filename (can include a folder)\n",
    "# include the search terms in the filename\n",
    "JSON_FILE = \"Data/results_in_progress_PDX_pizza.json\"\n",
    "JSON_FILE"
   ]
  },
  {
   "cell_type": "markdown",
   "id": "063c64af",
   "metadata": {},
   "source": [
    "# Check JSON File"
   ]
  },
  {
   "cell_type": "code",
   "execution_count": 34,
   "id": "303e11e8",
   "metadata": {},
   "outputs": [
    {
     "name": "stdout",
     "output_type": "stream",
     "text": [
      "[i] Data/results_in_progress_PDX_pizza.json not found. Saving empty list to file.\n"
     ]
    }
   ],
   "source": [
    "## Check if JSON_FILE exists\n",
    "file_exists = os.path.isfile(JSON_FILE)\n",
    "## If it does not exist: \n",
    "if file_exists == False:\n",
    "    \n",
    "    ## CREATE ANY NEEDED FOLDERS\n",
    "    # Get the Folder Name only\n",
    "    folder = os.path.dirname(JSON_FILE)\n",
    "    ## If JSON_FILE included a folder:\n",
    "    if len(folder)>0:\n",
    "        # create the folder\n",
    "        os.makedirs(folder,exist_ok=True)\n",
    "        \n",
    "        \n",
    "    ## INFORM USER AND SAVE EMPTY LIST\n",
    "    print(f'[i] {JSON_FILE} not found. Saving empty list to file.')\n",
    "    \n",
    "    \n",
    "    # save an empty list\n",
    "    with open(JSON_FILE,'w') as f:\n",
    "        json.dump([],f)  \n",
    "# If it exists, inform user\n",
    "else:\n",
    "    print(f\"[i] {JSON_FILE} already exists.\")"
   ]
  },
  {
   "cell_type": "code",
   "execution_count": 35,
   "id": "7116ceb5",
   "metadata": {},
   "outputs": [
    {
     "name": "stdout",
     "output_type": "stream",
     "text": [
      "- 0 previous results found.\n"
     ]
    }
   ],
   "source": [
    "## Load previous results and use len of results for offset\n",
    "with open(JSON_FILE,'r') as f:\n",
    "    previous_results = json.load(f)\n",
    "    \n",
    "## set offset based on previous results\n",
    "n_results = len(previous_results)\n",
    "print(f'- {n_results} previous results found.')"
   ]
  },
  {
   "cell_type": "markdown",
   "id": "edd27f60",
   "metadata": {},
   "source": [
    "# Yelp API"
   ]
  },
  {
   "cell_type": "code",
   "execution_count": 36,
   "id": "0842543e",
   "metadata": {},
   "outputs": [
    {
     "data": {
      "text/plain": [
       "dict_keys(['businesses', 'total', 'region'])"
      ]
     },
     "execution_count": 36,
     "metadata": {},
     "output_type": "execute_result"
    }
   ],
   "source": [
    "# use our yelp_api variable's search_query method to perform our API call\n",
    "results = yelp_api.search_query(location=LOCATION,\n",
    "                                term=TERM,\n",
    "                               offset=n_results)\n",
    "results.keys()"
   ]
  },
  {
   "cell_type": "code",
   "execution_count": 37,
   "id": "7a87ae4a",
   "metadata": {},
   "outputs": [
    {
     "data": {
      "text/plain": [
       "1700"
      ]
     },
     "execution_count": 37,
     "metadata": {},
     "output_type": "execute_result"
    }
   ],
   "source": [
    "## How many results total?\n",
    "total_results = results['total']\n",
    "total_results"
   ]
  },
  {
   "cell_type": "code",
   "execution_count": 38,
   "id": "04451b57",
   "metadata": {},
   "outputs": [
    {
     "data": {
      "text/plain": [
       "20"
      ]
     },
     "execution_count": 38,
     "metadata": {},
     "output_type": "execute_result"
    }
   ],
   "source": [
    "## How many did we get the details for?\n",
    "results_per_page = len(results['businesses'])\n",
    "results_per_page"
   ]
  },
  {
   "cell_type": "code",
   "execution_count": 39,
   "id": "c7559dba",
   "metadata": {},
   "outputs": [
    {
     "data": {
      "text/plain": [
       "85"
      ]
     },
     "execution_count": 39,
     "metadata": {},
     "output_type": "execute_result"
    }
   ],
   "source": [
    "# Import additional packages for controlling our loop\n",
    "import time, math\n",
    "# Use math.ceil to round up for the total number of pages of results.\n",
    "n_pages = math.ceil((results['total']-n_results)/ results_per_page)\n",
    "n_pages"
   ]
  },
  {
   "cell_type": "code",
   "execution_count": 40,
   "id": "da2c244d",
   "metadata": {},
   "outputs": [],
   "source": [
    "# join new results with old list with extend and save to file\n",
    "previous_results.extend(results['businesses'])  \n",
    "with open(JSON_FILE,'w') as f:\n",
    "     json.dump(previous_results,f)"
   ]
  },
  {
   "cell_type": "code",
   "execution_count": 41,
   "id": "0c0d1f73",
   "metadata": {},
   "outputs": [
    {
     "data": {
      "application/vnd.jupyter.widget-view+json": {
       "model_id": "c78afcd1a24540ddb17a79ba3f6e9183",
       "version_major": 2,
       "version_minor": 0
      },
      "text/plain": [
       "  0%|          | 0/85 [00:00<?, ?it/s]"
      ]
     },
     "metadata": {},
     "output_type": "display_data"
    }
   ],
   "source": [
    "from tqdm.notebook import tqdm_notebook\n",
    "import time\n",
    "for i in tqdm_notebook(range(n_pages)):\n",
    "    # adds 200 ms pause\n",
    "    time.sleep(.2) "
   ]
  },
  {
   "cell_type": "code",
   "execution_count": 42,
   "id": "8002ea65",
   "metadata": {},
   "outputs": [],
   "source": [
    "def create_json_file(JSON_FILE,  delete_if_exists=False):\n",
    "    \n",
    "    ## Check if JSON_FILE exists\n",
    "    file_exists = os.path.isfile(JSON_FILE)\n",
    "    \n",
    "    ## If it DOES exist:\n",
    "    if file_exists == True:\n",
    "        \n",
    "        ## Check if user wants to delete if exists\n",
    "        if delete_if_exists==True:\n",
    "            \n",
    "            print(f\"[!] {JSON_FILE} already exists. Deleting previous file...\")\n",
    "            ## delete file and confirm it no longer exits.\n",
    "            os.remove(JSON_FILE)\n",
    "            ## Recursive call to function after old file deleted\n",
    "            create_json_file(JSON_FILE,delete_if_exists=False)\n",
    "        else:\n",
    "            print(f\"[i] {JSON_FILE} already exists.\")            \n",
    "            \n",
    "            \n",
    "    ## If it does NOT exist:\n",
    "    else:\n",
    "        \n",
    "        ## INFORM USER AND SAVE EMPTY LIST\n",
    "        print(f\"[i] {JSON_FILE} not found. Saving empty list to new file.\")\n",
    "        \n",
    "        ## CREATE ANY NEEDED FOLDERS\n",
    "        # Get the Folder Name only\n",
    "        folder = os.path.dirname(JSON_FILE)\n",
    "        \n",
    "        ## If JSON_FILE included a folder:\n",
    "        if len(folder)>0:\n",
    "            # create the folder\n",
    "            os.makedirs(folder,exist_ok=True)\n",
    "        ## Save empty list to start the json file\n",
    "        with open(JSON_FILE,'w') as f:\n",
    "            json.dump([],f)"
   ]
  },
  {
   "cell_type": "code",
   "execution_count": 43,
   "id": "8ce71a70",
   "metadata": {},
   "outputs": [
    {
     "name": "stdout",
     "output_type": "stream",
     "text": [
      "[!] Data/results_in_progress_PDX_pizza.json already exists. Deleting previous file...\n",
      "[i] Data/results_in_progress_PDX_pizza.json not found. Saving empty list to new file.\n",
      "- 0 previous results found.\n"
     ]
    },
    {
     "data": {
      "text/plain": [
       "85"
      ]
     },
     "execution_count": 43,
     "metadata": {},
     "output_type": "execute_result"
    }
   ],
   "source": [
    "## Create a new empty json file (exist the previous if it exists)\n",
    "create_json_file(JSON_FILE, delete_if_exists=True)\n",
    "## Load previous results and use len of results for offset\n",
    "with open(JSON_FILE,'r') as f:\n",
    "    previous_results = json.load(f)\n",
    "    \n",
    "## set offset based on previous results\n",
    "n_results = len(previous_results)\n",
    "print(f'- {n_results} previous results found.')\n",
    "# use our yelp_api variable's search_query method to perform our API call\n",
    "results = yelp_api.search_query(location=LOCATION,\n",
    "                                term=TERM,\n",
    "                               offset=n_results)\n",
    "## How many results total?\n",
    "total_results = results['total']\n",
    "## How many did we get the details for?\n",
    "results_per_page = len(results['businesses'])\n",
    "# Use math.ceil to round up for the total number of pages of results.\n",
    "n_pages = math.ceil((results['total']-n_results)/ results_per_page)\n",
    "n_pages"
   ]
  },
  {
   "cell_type": "code",
   "execution_count": 45,
   "id": "a0b78ce4",
   "metadata": {},
   "outputs": [
    {
     "data": {
      "application/vnd.jupyter.widget-view+json": {
       "model_id": "febdf9da4e154496909c4768390a72e4",
       "version_major": 2,
       "version_minor": 0
      },
      "text/plain": [
       "  0%|          | 0/85 [00:00<?, ?it/s]"
      ]
     },
     "metadata": {},
     "output_type": "display_data"
    },
    {
     "name": "stdout",
     "output_type": "stream",
     "text": [
      "Exceeded 1000 api calls. Stopping loop.\n"
     ]
    }
   ],
   "source": [
    "for i in tqdm_notebook( range(1,n_pages+1)):\n",
    "    \n",
    "    ## Read in results in progress file and check the length\n",
    "    with open(JSON_FILE, 'r') as f:\n",
    "        previous_results = json.load(f)\n",
    "    ## save number of results for to use as offset\n",
    "    n_results = len(previous_results)\n",
    "    \n",
    "    if (n_results + results_per_page) > 1000:\n",
    "        print('Exceeded 1000 api calls. Stopping loop.')\n",
    "        break\n",
    "    \n",
    "    ## use n_results as the OFFSET \n",
    "    results = yelp_api.search_query(location=LOCATION,\n",
    "                                    term=TERM, \n",
    "                                    offset=n_results)\n",
    "    \n",
    "    \n",
    "    \n",
    "    ## append new results and save to file\n",
    "    previous_results.extend(results['businesses'])\n",
    "    \n",
    "    # display(previous_results)\n",
    "    with open(JSON_FILE,'w') as f:\n",
    "        json.dump(previous_results,f)\n",
    "    \n",
    "    time.sleep(.2)"
   ]
  },
  {
   "cell_type": "markdown",
   "id": "44dad267",
   "metadata": {},
   "source": [
    "# Display Results"
   ]
  },
  {
   "cell_type": "code",
   "execution_count": 46,
   "id": "6185c61d",
   "metadata": {},
   "outputs": [
    {
     "data": {
      "text/html": [
       "<div>\n",
       "<style scoped>\n",
       "    .dataframe tbody tr th:only-of-type {\n",
       "        vertical-align: middle;\n",
       "    }\n",
       "\n",
       "    .dataframe tbody tr th {\n",
       "        vertical-align: top;\n",
       "    }\n",
       "\n",
       "    .dataframe thead th {\n",
       "        text-align: right;\n",
       "    }\n",
       "</style>\n",
       "<table border=\"1\" class=\"dataframe\">\n",
       "  <thead>\n",
       "    <tr style=\"text-align: right;\">\n",
       "      <th></th>\n",
       "      <th>id</th>\n",
       "      <th>alias</th>\n",
       "      <th>name</th>\n",
       "      <th>image_url</th>\n",
       "      <th>is_closed</th>\n",
       "      <th>url</th>\n",
       "      <th>review_count</th>\n",
       "      <th>categories</th>\n",
       "      <th>rating</th>\n",
       "      <th>coordinates</th>\n",
       "      <th>transactions</th>\n",
       "      <th>price</th>\n",
       "      <th>location</th>\n",
       "      <th>phone</th>\n",
       "      <th>display_phone</th>\n",
       "      <th>distance</th>\n",
       "    </tr>\n",
       "  </thead>\n",
       "  <tbody>\n",
       "    <tr>\n",
       "      <th>0</th>\n",
       "      <td>-loAMvamhl-6kGw9jnetww</td>\n",
       "      <td>lovelys-fifty-fifty-portland</td>\n",
       "      <td>Lovely's Fifty Fifty</td>\n",
       "      <td>https://s3-media2.fl.yelpcdn.com/bphoto/bjjx_D...</td>\n",
       "      <td>False</td>\n",
       "      <td>https://www.yelp.com/biz/lovelys-fifty-fifty-p...</td>\n",
       "      <td>463</td>\n",
       "      <td>[{'alias': 'pizza', 'title': 'Pizza'}, {'alias...</td>\n",
       "      <td>4.5</td>\n",
       "      <td>{'latitude': 45.5528680273715, 'longitude': -1...</td>\n",
       "      <td>[delivery]</td>\n",
       "      <td>$$</td>\n",
       "      <td>{'address1': '4039 Mississippi Ave N', 'addres...</td>\n",
       "      <td>+15032814060</td>\n",
       "      <td>(503) 281-4060</td>\n",
       "      <td>2020.077922</td>\n",
       "    </tr>\n",
       "    <tr>\n",
       "      <th>1</th>\n",
       "      <td>ywxapaOnDn3wyof-35BUIQ</td>\n",
       "      <td>life-of-pie-pizza-portland</td>\n",
       "      <td>Life of Pie Pizza</td>\n",
       "      <td>https://s3-media1.fl.yelpcdn.com/bphoto/LhGaAT...</td>\n",
       "      <td>False</td>\n",
       "      <td>https://www.yelp.com/biz/life-of-pie-pizza-por...</td>\n",
       "      <td>864</td>\n",
       "      <td>[{'alias': 'pizza', 'title': 'Pizza'}, {'alias...</td>\n",
       "      <td>4.5</td>\n",
       "      <td>{'latitude': 45.549394, 'longitude': -122.666518}</td>\n",
       "      <td>[delivery]</td>\n",
       "      <td>$$</td>\n",
       "      <td>{'address1': '3632 N Williams Ave', 'address2'...</td>\n",
       "      <td>+15038200083</td>\n",
       "      <td>(503) 820-0083</td>\n",
       "      <td>1217.933062</td>\n",
       "    </tr>\n",
       "    <tr>\n",
       "      <th>2</th>\n",
       "      <td>48-tBsPQlSw5VD0IX6CxSg</td>\n",
       "      <td>baby-doll-pizza-portland</td>\n",
       "      <td>Baby Doll Pizza</td>\n",
       "      <td>https://s3-media2.fl.yelpcdn.com/bphoto/C9t72N...</td>\n",
       "      <td>False</td>\n",
       "      <td>https://www.yelp.com/biz/baby-doll-pizza-portl...</td>\n",
       "      <td>517</td>\n",
       "      <td>[{'alias': 'pizza', 'title': 'Pizza'}]</td>\n",
       "      <td>4.5</td>\n",
       "      <td>{'latitude': 45.5195313, 'longitude': -122.636...</td>\n",
       "      <td>[delivery]</td>\n",
       "      <td>$$</td>\n",
       "      <td>{'address1': '2835 SE Stark St', 'address2': '...</td>\n",
       "      <td>+15034594450</td>\n",
       "      <td>(503) 459-4450</td>\n",
       "      <td>2922.721313</td>\n",
       "    </tr>\n",
       "    <tr>\n",
       "      <th>3</th>\n",
       "      <td>lBRlHsXgBwWszAaVcV6dYg</td>\n",
       "      <td>sizzle-pie-portland</td>\n",
       "      <td>Sizzle Pie</td>\n",
       "      <td>https://s3-media2.fl.yelpcdn.com/bphoto/2d8twF...</td>\n",
       "      <td>False</td>\n",
       "      <td>https://www.yelp.com/biz/sizzle-pie-portland?a...</td>\n",
       "      <td>1102</td>\n",
       "      <td>[{'alias': 'pizza', 'title': 'Pizza'}, {'alias...</td>\n",
       "      <td>4.0</td>\n",
       "      <td>{'latitude': 45.5227460279759, 'longitude': -1...</td>\n",
       "      <td>[delivery, pickup]</td>\n",
       "      <td>$</td>\n",
       "      <td>{'address1': '624 E Burnside', 'address2': '',...</td>\n",
       "      <td>+15032347437</td>\n",
       "      <td>(503) 234-7437</td>\n",
       "      <td>2254.819850</td>\n",
       "    </tr>\n",
       "    <tr>\n",
       "      <th>4</th>\n",
       "      <td>Nr0cDHVHAgfGqrqw5x8ZaA</td>\n",
       "      <td>pizza-thief-portland</td>\n",
       "      <td>Pizza Thief</td>\n",
       "      <td>https://s3-media1.fl.yelpcdn.com/bphoto/vMQzuu...</td>\n",
       "      <td>False</td>\n",
       "      <td>https://www.yelp.com/biz/pizza-thief-portland?...</td>\n",
       "      <td>140</td>\n",
       "      <td>[{'alias': 'pizza', 'title': 'Pizza'}]</td>\n",
       "      <td>4.5</td>\n",
       "      <td>{'latitude': 45.53659869202158, 'longitude': -...</td>\n",
       "      <td>[delivery]</td>\n",
       "      <td>$$</td>\n",
       "      <td>{'address1': '2610 NW Vaughn St', 'address2': ...</td>\n",
       "      <td>+15037197778</td>\n",
       "      <td>(503) 719-7778</td>\n",
       "      <td>4042.713209</td>\n",
       "    </tr>\n",
       "  </tbody>\n",
       "</table>\n",
       "</div>"
      ],
      "text/plain": [
       "                       id                         alias                  name  \\\n",
       "0  -loAMvamhl-6kGw9jnetww  lovelys-fifty-fifty-portland  Lovely's Fifty Fifty   \n",
       "1  ywxapaOnDn3wyof-35BUIQ    life-of-pie-pizza-portland     Life of Pie Pizza   \n",
       "2  48-tBsPQlSw5VD0IX6CxSg      baby-doll-pizza-portland       Baby Doll Pizza   \n",
       "3  lBRlHsXgBwWszAaVcV6dYg           sizzle-pie-portland            Sizzle Pie   \n",
       "4  Nr0cDHVHAgfGqrqw5x8ZaA          pizza-thief-portland           Pizza Thief   \n",
       "\n",
       "                                           image_url  is_closed  \\\n",
       "0  https://s3-media2.fl.yelpcdn.com/bphoto/bjjx_D...      False   \n",
       "1  https://s3-media1.fl.yelpcdn.com/bphoto/LhGaAT...      False   \n",
       "2  https://s3-media2.fl.yelpcdn.com/bphoto/C9t72N...      False   \n",
       "3  https://s3-media2.fl.yelpcdn.com/bphoto/2d8twF...      False   \n",
       "4  https://s3-media1.fl.yelpcdn.com/bphoto/vMQzuu...      False   \n",
       "\n",
       "                                                 url  review_count  \\\n",
       "0  https://www.yelp.com/biz/lovelys-fifty-fifty-p...           463   \n",
       "1  https://www.yelp.com/biz/life-of-pie-pizza-por...           864   \n",
       "2  https://www.yelp.com/biz/baby-doll-pizza-portl...           517   \n",
       "3  https://www.yelp.com/biz/sizzle-pie-portland?a...          1102   \n",
       "4  https://www.yelp.com/biz/pizza-thief-portland?...           140   \n",
       "\n",
       "                                          categories  rating  \\\n",
       "0  [{'alias': 'pizza', 'title': 'Pizza'}, {'alias...     4.5   \n",
       "1  [{'alias': 'pizza', 'title': 'Pizza'}, {'alias...     4.5   \n",
       "2             [{'alias': 'pizza', 'title': 'Pizza'}]     4.5   \n",
       "3  [{'alias': 'pizza', 'title': 'Pizza'}, {'alias...     4.0   \n",
       "4             [{'alias': 'pizza', 'title': 'Pizza'}]     4.5   \n",
       "\n",
       "                                         coordinates        transactions  \\\n",
       "0  {'latitude': 45.5528680273715, 'longitude': -1...          [delivery]   \n",
       "1  {'latitude': 45.549394, 'longitude': -122.666518}          [delivery]   \n",
       "2  {'latitude': 45.5195313, 'longitude': -122.636...          [delivery]   \n",
       "3  {'latitude': 45.5227460279759, 'longitude': -1...  [delivery, pickup]   \n",
       "4  {'latitude': 45.53659869202158, 'longitude': -...          [delivery]   \n",
       "\n",
       "  price                                           location         phone  \\\n",
       "0    $$  {'address1': '4039 Mississippi Ave N', 'addres...  +15032814060   \n",
       "1    $$  {'address1': '3632 N Williams Ave', 'address2'...  +15038200083   \n",
       "2    $$  {'address1': '2835 SE Stark St', 'address2': '...  +15034594450   \n",
       "3     $  {'address1': '624 E Burnside', 'address2': '',...  +15032347437   \n",
       "4    $$  {'address1': '2610 NW Vaughn St', 'address2': ...  +15037197778   \n",
       "\n",
       "    display_phone     distance  \n",
       "0  (503) 281-4060  2020.077922  \n",
       "1  (503) 820-0083  1217.933062  \n",
       "2  (503) 459-4450  2922.721313  \n",
       "3  (503) 234-7437  2254.819850  \n",
       "4  (503) 719-7778  4042.713209  "
      ]
     },
     "metadata": {},
     "output_type": "display_data"
    },
    {
     "data": {
      "text/html": [
       "<div>\n",
       "<style scoped>\n",
       "    .dataframe tbody tr th:only-of-type {\n",
       "        vertical-align: middle;\n",
       "    }\n",
       "\n",
       "    .dataframe tbody tr th {\n",
       "        vertical-align: top;\n",
       "    }\n",
       "\n",
       "    .dataframe thead th {\n",
       "        text-align: right;\n",
       "    }\n",
       "</style>\n",
       "<table border=\"1\" class=\"dataframe\">\n",
       "  <thead>\n",
       "    <tr style=\"text-align: right;\">\n",
       "      <th></th>\n",
       "      <th>id</th>\n",
       "      <th>alias</th>\n",
       "      <th>name</th>\n",
       "      <th>image_url</th>\n",
       "      <th>is_closed</th>\n",
       "      <th>url</th>\n",
       "      <th>review_count</th>\n",
       "      <th>categories</th>\n",
       "      <th>rating</th>\n",
       "      <th>coordinates</th>\n",
       "      <th>transactions</th>\n",
       "      <th>price</th>\n",
       "      <th>location</th>\n",
       "      <th>phone</th>\n",
       "      <th>display_phone</th>\n",
       "      <th>distance</th>\n",
       "    </tr>\n",
       "  </thead>\n",
       "  <tbody>\n",
       "    <tr>\n",
       "      <th>995</th>\n",
       "      <td>2vqfrDOCEGrtTPFQfn0MGQ</td>\n",
       "      <td>trader-joes-portland</td>\n",
       "      <td>Trader Joe's</td>\n",
       "      <td>https://s3-media1.fl.yelpcdn.com/bphoto/DYdrlt...</td>\n",
       "      <td>False</td>\n",
       "      <td>https://www.yelp.com/biz/trader-joes-portland?...</td>\n",
       "      <td>172</td>\n",
       "      <td>[{'alias': 'grocery', 'title': 'Grocery'}]</td>\n",
       "      <td>4.0</td>\n",
       "      <td>{'latitude': 45.5344, 'longitude': -122.6208}</td>\n",
       "      <td>[]</td>\n",
       "      <td>$$</td>\n",
       "      <td>{'address1': '4121 NE Halsey St', 'address2': ...</td>\n",
       "      <td>+15032844232</td>\n",
       "      <td>(503) 284-4232</td>\n",
       "      <td>2741.974846</td>\n",
       "    </tr>\n",
       "    <tr>\n",
       "      <th>996</th>\n",
       "      <td>vn044qnNg9OuGs_NFvm7NQ</td>\n",
       "      <td>dominos-pizza-tualatin</td>\n",
       "      <td>Domino's Pizza</td>\n",
       "      <td>https://s3-media2.fl.yelpcdn.com/bphoto/GYdnvd...</td>\n",
       "      <td>False</td>\n",
       "      <td>https://www.yelp.com/biz/dominos-pizza-tualati...</td>\n",
       "      <td>22</td>\n",
       "      <td>[{'alias': 'pizza', 'title': 'Pizza'}, {'alias...</td>\n",
       "      <td>2.0</td>\n",
       "      <td>{'latitude': 45.38207, 'longitude': -122.74803}</td>\n",
       "      <td>[]</td>\n",
       "      <td>$</td>\n",
       "      <td>{'address1': '7066 SW Nyberg St', 'address2': ...</td>\n",
       "      <td>+15037838100</td>\n",
       "      <td>(503) 783-8100</td>\n",
       "      <td>19283.598038</td>\n",
       "    </tr>\n",
       "    <tr>\n",
       "      <th>997</th>\n",
       "      <td>4fqP6o_iSlyHy-WodU2kbA</td>\n",
       "      <td>new-happy-fortune-chinese-restaurant-portland</td>\n",
       "      <td>New Happy Fortune Chinese Restaurant</td>\n",
       "      <td>https://s3-media2.fl.yelpcdn.com/bphoto/lDLZTp...</td>\n",
       "      <td>False</td>\n",
       "      <td>https://www.yelp.com/biz/new-happy-fortune-chi...</td>\n",
       "      <td>127</td>\n",
       "      <td>[{'alias': 'chinese', 'title': 'Chinese'}]</td>\n",
       "      <td>3.5</td>\n",
       "      <td>{'latitude': 45.53815, 'longitude': -122.57925}</td>\n",
       "      <td>[delivery, pickup]</td>\n",
       "      <td>$</td>\n",
       "      <td>{'address1': '2145 NE 82nd Ave', 'address2': '...</td>\n",
       "      <td>+15032531647</td>\n",
       "      <td>(503) 253-1647</td>\n",
       "      <td>5854.213493</td>\n",
       "    </tr>\n",
       "    <tr>\n",
       "      <th>998</th>\n",
       "      <td>k9e2vDPLYrP1wo7pBx9cxQ</td>\n",
       "      <td>ruddick-wood-newberg</td>\n",
       "      <td>Ruddick/Wood</td>\n",
       "      <td>https://s3-media3.fl.yelpcdn.com/bphoto/EGLylN...</td>\n",
       "      <td>False</td>\n",
       "      <td>https://www.yelp.com/biz/ruddick-wood-newberg?...</td>\n",
       "      <td>428</td>\n",
       "      <td>[{'alias': 'newamerican', 'title': 'American (...</td>\n",
       "      <td>3.5</td>\n",
       "      <td>{'latitude': 45.30017855424348, 'longitude': -...</td>\n",
       "      <td>[]</td>\n",
       "      <td>$$</td>\n",
       "      <td>{'address1': '720 E 1st St', 'address2': '', '...</td>\n",
       "      <td>+15034876133</td>\n",
       "      <td>(503) 487-6133</td>\n",
       "      <td>36635.649777</td>\n",
       "    </tr>\n",
       "    <tr>\n",
       "      <th>999</th>\n",
       "      <td>QoDoOB3S1mK0qtqOmo8kSQ</td>\n",
       "      <td>mcmenamins-edgefield-troutdale-2</td>\n",
       "      <td>McMenamins Edgefield</td>\n",
       "      <td>https://s3-media2.fl.yelpcdn.com/bphoto/CS4UEA...</td>\n",
       "      <td>False</td>\n",
       "      <td>https://www.yelp.com/biz/mcmenamins-edgefield-...</td>\n",
       "      <td>1436</td>\n",
       "      <td>[{'alias': 'hotels', 'title': 'Hotels'}, {'ali...</td>\n",
       "      <td>4.0</td>\n",
       "      <td>{'latitude': 45.5374175833515, 'longitude': -1...</td>\n",
       "      <td>[]</td>\n",
       "      <td>$$</td>\n",
       "      <td>{'address1': '2126 SW Halsey St.', 'address2':...</td>\n",
       "      <td>+15036698610</td>\n",
       "      <td>(503) 669-8610</td>\n",
       "      <td>19365.803664</td>\n",
       "    </tr>\n",
       "  </tbody>\n",
       "</table>\n",
       "</div>"
      ],
      "text/plain": [
       "                         id                                          alias  \\\n",
       "995  2vqfrDOCEGrtTPFQfn0MGQ                           trader-joes-portland   \n",
       "996  vn044qnNg9OuGs_NFvm7NQ                         dominos-pizza-tualatin   \n",
       "997  4fqP6o_iSlyHy-WodU2kbA  new-happy-fortune-chinese-restaurant-portland   \n",
       "998  k9e2vDPLYrP1wo7pBx9cxQ                           ruddick-wood-newberg   \n",
       "999  QoDoOB3S1mK0qtqOmo8kSQ               mcmenamins-edgefield-troutdale-2   \n",
       "\n",
       "                                     name  \\\n",
       "995                          Trader Joe's   \n",
       "996                        Domino's Pizza   \n",
       "997  New Happy Fortune Chinese Restaurant   \n",
       "998                          Ruddick/Wood   \n",
       "999                  McMenamins Edgefield   \n",
       "\n",
       "                                             image_url  is_closed  \\\n",
       "995  https://s3-media1.fl.yelpcdn.com/bphoto/DYdrlt...      False   \n",
       "996  https://s3-media2.fl.yelpcdn.com/bphoto/GYdnvd...      False   \n",
       "997  https://s3-media2.fl.yelpcdn.com/bphoto/lDLZTp...      False   \n",
       "998  https://s3-media3.fl.yelpcdn.com/bphoto/EGLylN...      False   \n",
       "999  https://s3-media2.fl.yelpcdn.com/bphoto/CS4UEA...      False   \n",
       "\n",
       "                                                   url  review_count  \\\n",
       "995  https://www.yelp.com/biz/trader-joes-portland?...           172   \n",
       "996  https://www.yelp.com/biz/dominos-pizza-tualati...            22   \n",
       "997  https://www.yelp.com/biz/new-happy-fortune-chi...           127   \n",
       "998  https://www.yelp.com/biz/ruddick-wood-newberg?...           428   \n",
       "999  https://www.yelp.com/biz/mcmenamins-edgefield-...          1436   \n",
       "\n",
       "                                            categories  rating  \\\n",
       "995         [{'alias': 'grocery', 'title': 'Grocery'}]     4.0   \n",
       "996  [{'alias': 'pizza', 'title': 'Pizza'}, {'alias...     2.0   \n",
       "997         [{'alias': 'chinese', 'title': 'Chinese'}]     3.5   \n",
       "998  [{'alias': 'newamerican', 'title': 'American (...     3.5   \n",
       "999  [{'alias': 'hotels', 'title': 'Hotels'}, {'ali...     4.0   \n",
       "\n",
       "                                           coordinates        transactions  \\\n",
       "995      {'latitude': 45.5344, 'longitude': -122.6208}                  []   \n",
       "996    {'latitude': 45.38207, 'longitude': -122.74803}                  []   \n",
       "997    {'latitude': 45.53815, 'longitude': -122.57925}  [delivery, pickup]   \n",
       "998  {'latitude': 45.30017855424348, 'longitude': -...                  []   \n",
       "999  {'latitude': 45.5374175833515, 'longitude': -1...                  []   \n",
       "\n",
       "    price                                           location         phone  \\\n",
       "995    $$  {'address1': '4121 NE Halsey St', 'address2': ...  +15032844232   \n",
       "996     $  {'address1': '7066 SW Nyberg St', 'address2': ...  +15037838100   \n",
       "997     $  {'address1': '2145 NE 82nd Ave', 'address2': '...  +15032531647   \n",
       "998    $$  {'address1': '720 E 1st St', 'address2': '', '...  +15034876133   \n",
       "999    $$  {'address1': '2126 SW Halsey St.', 'address2':...  +15036698610   \n",
       "\n",
       "      display_phone      distance  \n",
       "995  (503) 284-4232   2741.974846  \n",
       "996  (503) 783-8100  19283.598038  \n",
       "997  (503) 253-1647   5854.213493  \n",
       "998  (503) 487-6133  36635.649777  \n",
       "999  (503) 669-8610  19365.803664  "
      ]
     },
     "metadata": {},
     "output_type": "display_data"
    }
   ],
   "source": [
    "# load final results\n",
    "final_df = pd.read_json(JSON_FILE)\n",
    "display(final_df.head(), final_df.tail())"
   ]
  },
  {
   "cell_type": "code",
   "execution_count": 47,
   "id": "f8289407",
   "metadata": {
    "scrolled": true
   },
   "outputs": [
    {
     "data": {
      "text/plain": [
       "0"
      ]
     },
     "execution_count": 47,
     "metadata": {},
     "output_type": "execute_result"
    }
   ],
   "source": [
    "# check for duplicate ID's \n",
    "final_df.duplicated(subset='id').sum()"
   ]
  },
  {
   "cell_type": "code",
   "execution_count": 49,
   "id": "16bca247",
   "metadata": {},
   "outputs": [],
   "source": [
    "# save the final results to a compressed csv\n",
    "final_df.to_csv('Data/final_results_NY_pizza.csv.gz', compression='gzip',index=False)"
   ]
  }
 ],
 "metadata": {
  "kernelspec": {
   "display_name": "Python (dojo-env)",
   "language": "python",
   "name": "dojo-env"
  },
  "language_info": {
   "codemirror_mode": {
    "name": "ipython",
    "version": 3
   },
   "file_extension": ".py",
   "mimetype": "text/x-python",
   "name": "python",
   "nbconvert_exporter": "python",
   "pygments_lexer": "ipython3",
   "version": "3.9.15"
  },
  "toc": {
   "base_numbering": 1,
   "nav_menu": {},
   "number_sections": false,
   "sideBar": true,
   "skip_h1_title": false,
   "title_cell": "Table of Contents",
   "title_sidebar": "Contents",
   "toc_cell": false,
   "toc_position": {},
   "toc_section_display": true,
   "toc_window_display": false
  }
 },
 "nbformat": 4,
 "nbformat_minor": 5
}
